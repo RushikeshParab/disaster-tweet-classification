{
  "cells": [
    {
      "cell_type": "code",
      "execution_count": 1,
      "metadata": {
        "colab": {
          "base_uri": "https://localhost:8080/"
        },
        "id": "LzYAM40KAGRf",
        "outputId": "ae0d3fad-bf3a-4864-8975-73a22877b15b"
      },
      "outputs": [
        {
          "output_type": "stream",
          "name": "stdout",
          "text": [
            "GPU 0: Tesla T4 (UUID: GPU-6a788e71-7ad2-fc90-0be4-4c7da76df7cb)\n"
          ]
        }
      ],
      "source": [
        "!nvidia-smi -L"
      ]
    },
    {
      "cell_type": "code",
      "execution_count": 2,
      "metadata": {
        "colab": {
          "base_uri": "https://localhost:8080/",
          "height": 206
        },
        "id": "a_5SEBb5AWeu",
        "outputId": "f136fb0a-636a-4e40-9e9f-eb547b62a31d"
      },
      "outputs": [
        {
          "output_type": "execute_result",
          "data": {
            "text/plain": [
              "   id keyword location                                               text  \\\n",
              "0   1     NaN      NaN  Our Deeds are the Reason of this #earthquake M...   \n",
              "1   4     NaN      NaN             Forest fire near La Ronge Sask. Canada   \n",
              "2   5     NaN      NaN  All residents asked to 'shelter in place' are ...   \n",
              "3   6     NaN      NaN  13,000 people receive #wildfires evacuation or...   \n",
              "4   7     NaN      NaN  Just got sent this photo from Ruby #Alaska as ...   \n",
              "\n",
              "   target  \n",
              "0       1  \n",
              "1       1  \n",
              "2       1  \n",
              "3       1  \n",
              "4       1  "
            ],
            "text/html": [
              "\n",
              "  <div id=\"df-620a1a21-d1e7-48fa-b50f-3821c826008b\">\n",
              "    <div class=\"colab-df-container\">\n",
              "      <div>\n",
              "<style scoped>\n",
              "    .dataframe tbody tr th:only-of-type {\n",
              "        vertical-align: middle;\n",
              "    }\n",
              "\n",
              "    .dataframe tbody tr th {\n",
              "        vertical-align: top;\n",
              "    }\n",
              "\n",
              "    .dataframe thead th {\n",
              "        text-align: right;\n",
              "    }\n",
              "</style>\n",
              "<table border=\"1\" class=\"dataframe\">\n",
              "  <thead>\n",
              "    <tr style=\"text-align: right;\">\n",
              "      <th></th>\n",
              "      <th>id</th>\n",
              "      <th>keyword</th>\n",
              "      <th>location</th>\n",
              "      <th>text</th>\n",
              "      <th>target</th>\n",
              "    </tr>\n",
              "  </thead>\n",
              "  <tbody>\n",
              "    <tr>\n",
              "      <th>0</th>\n",
              "      <td>1</td>\n",
              "      <td>NaN</td>\n",
              "      <td>NaN</td>\n",
              "      <td>Our Deeds are the Reason of this #earthquake M...</td>\n",
              "      <td>1</td>\n",
              "    </tr>\n",
              "    <tr>\n",
              "      <th>1</th>\n",
              "      <td>4</td>\n",
              "      <td>NaN</td>\n",
              "      <td>NaN</td>\n",
              "      <td>Forest fire near La Ronge Sask. Canada</td>\n",
              "      <td>1</td>\n",
              "    </tr>\n",
              "    <tr>\n",
              "      <th>2</th>\n",
              "      <td>5</td>\n",
              "      <td>NaN</td>\n",
              "      <td>NaN</td>\n",
              "      <td>All residents asked to 'shelter in place' are ...</td>\n",
              "      <td>1</td>\n",
              "    </tr>\n",
              "    <tr>\n",
              "      <th>3</th>\n",
              "      <td>6</td>\n",
              "      <td>NaN</td>\n",
              "      <td>NaN</td>\n",
              "      <td>13,000 people receive #wildfires evacuation or...</td>\n",
              "      <td>1</td>\n",
              "    </tr>\n",
              "    <tr>\n",
              "      <th>4</th>\n",
              "      <td>7</td>\n",
              "      <td>NaN</td>\n",
              "      <td>NaN</td>\n",
              "      <td>Just got sent this photo from Ruby #Alaska as ...</td>\n",
              "      <td>1</td>\n",
              "    </tr>\n",
              "  </tbody>\n",
              "</table>\n",
              "</div>\n",
              "      <button class=\"colab-df-convert\" onclick=\"convertToInteractive('df-620a1a21-d1e7-48fa-b50f-3821c826008b')\"\n",
              "              title=\"Convert this dataframe to an interactive table.\"\n",
              "              style=\"display:none;\">\n",
              "        \n",
              "  <svg xmlns=\"http://www.w3.org/2000/svg\" height=\"24px\"viewBox=\"0 0 24 24\"\n",
              "       width=\"24px\">\n",
              "    <path d=\"M0 0h24v24H0V0z\" fill=\"none\"/>\n",
              "    <path d=\"M18.56 5.44l.94 2.06.94-2.06 2.06-.94-2.06-.94-.94-2.06-.94 2.06-2.06.94zm-11 1L8.5 8.5l.94-2.06 2.06-.94-2.06-.94L8.5 2.5l-.94 2.06-2.06.94zm10 10l.94 2.06.94-2.06 2.06-.94-2.06-.94-.94-2.06-.94 2.06-2.06.94z\"/><path d=\"M17.41 7.96l-1.37-1.37c-.4-.4-.92-.59-1.43-.59-.52 0-1.04.2-1.43.59L10.3 9.45l-7.72 7.72c-.78.78-.78 2.05 0 2.83L4 21.41c.39.39.9.59 1.41.59.51 0 1.02-.2 1.41-.59l7.78-7.78 2.81-2.81c.8-.78.8-2.07 0-2.86zM5.41 20L4 18.59l7.72-7.72 1.47 1.35L5.41 20z\"/>\n",
              "  </svg>\n",
              "      </button>\n",
              "      \n",
              "  <style>\n",
              "    .colab-df-container {\n",
              "      display:flex;\n",
              "      flex-wrap:wrap;\n",
              "      gap: 12px;\n",
              "    }\n",
              "\n",
              "    .colab-df-convert {\n",
              "      background-color: #E8F0FE;\n",
              "      border: none;\n",
              "      border-radius: 50%;\n",
              "      cursor: pointer;\n",
              "      display: none;\n",
              "      fill: #1967D2;\n",
              "      height: 32px;\n",
              "      padding: 0 0 0 0;\n",
              "      width: 32px;\n",
              "    }\n",
              "\n",
              "    .colab-df-convert:hover {\n",
              "      background-color: #E2EBFA;\n",
              "      box-shadow: 0px 1px 2px rgba(60, 64, 67, 0.3), 0px 1px 3px 1px rgba(60, 64, 67, 0.15);\n",
              "      fill: #174EA6;\n",
              "    }\n",
              "\n",
              "    [theme=dark] .colab-df-convert {\n",
              "      background-color: #3B4455;\n",
              "      fill: #D2E3FC;\n",
              "    }\n",
              "\n",
              "    [theme=dark] .colab-df-convert:hover {\n",
              "      background-color: #434B5C;\n",
              "      box-shadow: 0px 1px 3px 1px rgba(0, 0, 0, 0.15);\n",
              "      filter: drop-shadow(0px 1px 2px rgba(0, 0, 0, 0.3));\n",
              "      fill: #FFFFFF;\n",
              "    }\n",
              "  </style>\n",
              "\n",
              "      <script>\n",
              "        const buttonEl =\n",
              "          document.querySelector('#df-620a1a21-d1e7-48fa-b50f-3821c826008b button.colab-df-convert');\n",
              "        buttonEl.style.display =\n",
              "          google.colab.kernel.accessAllowed ? 'block' : 'none';\n",
              "\n",
              "        async function convertToInteractive(key) {\n",
              "          const element = document.querySelector('#df-620a1a21-d1e7-48fa-b50f-3821c826008b');\n",
              "          const dataTable =\n",
              "            await google.colab.kernel.invokeFunction('convertToInteractive',\n",
              "                                                     [key], {});\n",
              "          if (!dataTable) return;\n",
              "\n",
              "          const docLinkHtml = 'Like what you see? Visit the ' +\n",
              "            '<a target=\"_blank\" href=https://colab.research.google.com/notebooks/data_table.ipynb>data table notebook</a>'\n",
              "            + ' to learn more about interactive tables.';\n",
              "          element.innerHTML = '';\n",
              "          dataTable['output_type'] = 'display_data';\n",
              "          await google.colab.output.renderOutput(dataTable, element);\n",
              "          const docLink = document.createElement('div');\n",
              "          docLink.innerHTML = docLinkHtml;\n",
              "          element.appendChild(docLink);\n",
              "        }\n",
              "      </script>\n",
              "    </div>\n",
              "  </div>\n",
              "  "
            ]
          },
          "metadata": {},
          "execution_count": 2
        }
      ],
      "source": [
        "\n",
        "import pandas as pd\n",
        "train_df = pd.read_csv(\"/content/drive/MyDrive/train.csv\")\n",
        "test_df = pd.read_csv(\"/content/drive/MyDrive/test.csv\")\n",
        "train_df.head()"
      ]
    },
    {
      "cell_type": "code",
      "execution_count": 2,
      "metadata": {
        "id": "PVxe1z8ABN6h"
      },
      "outputs": [],
      "source": []
    },
    {
      "cell_type": "code",
      "execution_count": 3,
      "metadata": {
        "colab": {
          "base_uri": "https://localhost:8080/"
        },
        "id": "LyUSFMCIBwOd",
        "outputId": "6dc4977d-65b0-4d22-f8e1-9129966bcce2"
      },
      "outputs": [
        {
          "output_type": "execute_result",
          "data": {
            "text/plain": [
              "0    4342\n",
              "1    3271\n",
              "Name: target, dtype: int64"
            ]
          },
          "metadata": {},
          "execution_count": 3
        }
      ],
      "source": [
        "train_df.target.value_counts()"
      ]
    },
    {
      "cell_type": "code",
      "execution_count": 4,
      "metadata": {
        "colab": {
          "base_uri": "https://localhost:8080/"
        },
        "id": "Pi21Gc4zGwtI",
        "outputId": "61f8dd3f-d544-4c35-9279-8383e4d122ea"
      },
      "outputs": [
        {
          "output_type": "execute_result",
          "data": {
            "text/plain": [
              "7613"
            ]
          },
          "metadata": {},
          "execution_count": 4
        }
      ],
      "source": [
        "len(train_df)"
      ]
    },
    {
      "cell_type": "code",
      "execution_count": 5,
      "metadata": {
        "id": "gGXWhmy3Eam0"
      },
      "outputs": [],
      "source": [
        "from sklearn.model_selection import train_test_split\n"
      ]
    },
    {
      "cell_type": "code",
      "execution_count": 6,
      "metadata": {
        "id": "pvmC5EixFekl"
      },
      "outputs": [],
      "source": [
        "train_sent,validation_sent,train_result,validation_result=train_test_split(\n",
        "    train_df['text'].to_numpy(),\n",
        "    train_df['target'].to_numpy(),\n",
        "    test_size=0.2,\n",
        "    random_state=42\n",
        "\n",
        ")"
      ]
    },
    {
      "cell_type": "code",
      "execution_count": 7,
      "metadata": {
        "colab": {
          "base_uri": "https://localhost:8080/"
        },
        "id": "GM5DmNlSHzD1",
        "outputId": "db4f38ea-9739-48fe-c34a-c9730cf7eda6"
      },
      "outputs": [
        {
          "output_type": "execute_result",
          "data": {
            "text/plain": [
              "(6090, 6090)"
            ]
          },
          "metadata": {},
          "execution_count": 7
        }
      ],
      "source": [
        "len(train_sent),len(train_result)"
      ]
    },
    {
      "cell_type": "markdown",
      "source": [
        "TextVectorization"
      ],
      "metadata": {
        "id": "Wasqcnfw25gA"
      }
    },
    {
      "cell_type": "code",
      "execution_count": 8,
      "metadata": {
        "id": "iUFMiqWj3JNf"
      },
      "outputs": [],
      "source": [
        "import tensorflow as tf\n",
        "from tensorflow.keras.layers.experimental.preprocessing import TextVectorization"
      ]
    },
    {
      "cell_type": "code",
      "execution_count": 9,
      "metadata": {
        "id": "K4MrV7jc3OXc"
      },
      "outputs": [],
      "source": [
        "textvectorizer=TextVectorization(\n",
        "    max_tokens=None,\n",
        "    standardize=\"lower_and_strip_punctuation\",\n",
        "    split=\"whitespace\",\n",
        "    ngrams=None,\n",
        "    output_sequence_length=None,\n",
        "    output_mode='int'\n",
        ")"
      ]
    },
    {
      "cell_type": "code",
      "execution_count": 10,
      "metadata": {
        "id": "p-z8CDUX4ozD",
        "colab": {
          "base_uri": "https://localhost:8080/"
        },
        "outputId": "3d07b78e-db1d-4e11-a5ca-3d4716f89f16"
      },
      "outputs": [
        {
          "output_type": "execute_result",
          "data": {
            "text/plain": [
              "10000"
            ]
          },
          "metadata": {},
          "execution_count": 10
        }
      ],
      "source": [
        "textvectorizer=TextVectorization(\n",
        "    max_tokens=10000,\n",
        "    output_mode='int',\n",
        "    output_sequence_length=15)\n",
        "\n",
        "# adapt() method\n",
        "textvectorizer.adapt(train_sent)\n",
        "# to get the unique words in vocab\n",
        "wordss= textvectorizer.get_vocabulary()\n",
        "len(wordss)"
      ]
    },
    {
      "cell_type": "markdown",
      "source": [
        "Embedding"
      ],
      "metadata": {
        "id": "IP42CWPn3BjC"
      }
    },
    {
      "cell_type": "code",
      "execution_count": 11,
      "metadata": {
        "id": "gIW812wxG47q"
      },
      "outputs": [],
      "source": [
        "from tensorflow.keras import layers\n",
        "tf.random.set_seed(42)\n",
        "embeddingss= layers.Embedding(\n",
        "    input_dim=10000,\n",
        "    output_dim=128,\n",
        "    input_length=15\n",
        "\n",
        ")\n"
      ]
    },
    {
      "cell_type": "code",
      "execution_count": 11,
      "metadata": {
        "id": "VRMfx5-R52gm"
      },
      "outputs": [],
      "source": []
    },
    {
      "cell_type": "markdown",
      "metadata": {
        "id": "LTIIXu09FwNE"
      },
      "source": [
        "\n",
        "Model 0: Naive Bayes (baseline)\n",
        "\n",
        "Model 1: Feed-forward neural network (dense model)\n",
        "\n",
        "Model 2: LSTM model\n",
        "\n",
        "Model 3: GRU model\n",
        "\n",
        "Model 4: Bidirectional-LSTM model\n",
        "\n",
        "Model 5: 1D Convolutional Neural Network\n",
        "\n",
        "Model 6: TensorFlow Hub Pretrained Feature Extractor\n",
        "\n",
        "Model 7: Same as model 6 with 10% of training data"
      ]
    },
    {
      "cell_type": "markdown",
      "metadata": {
        "id": "JzAABSno6nOZ"
      },
      "source": [
        "Model 0"
      ]
    },
    {
      "cell_type": "code",
      "execution_count": 12,
      "metadata": {
        "id": "XfCJ4dX4F5ZC"
      },
      "outputs": [],
      "source": [
        "\n",
        "from sklearn.feature_extraction.text import TfidfVectorizer\n",
        "from sklearn.naive_bayes import MultinomialNB\n",
        "from sklearn.pipeline import Pipeline\n",
        "\n",
        "model_0= Pipeline([\n",
        "    ('tfidf',TfidfVectorizer()), #convert words to numbers using tfidf\n",
        "    (\"clf\",MultinomialNB())\n",
        "\n",
        "])\n",
        "\n",
        "model_0.fit(train_sent,train_result)\n",
        "baseline_score= model_0.score(validation_sent,validation_result)\n",
        "baseline_pred=model_0.predict(validation_sent)"
      ]
    },
    {
      "cell_type": "code",
      "execution_count": 13,
      "metadata": {
        "id": "_uaS8HFgORgz"
      },
      "outputs": [],
      "source": [
        "\n",
        "from sklearn.metrics import accuracy_score,precision_recall_fscore_support\n",
        "\n",
        "\n",
        "def calculate_result(y_test,y_pred):\n",
        "  accuracyscore=accuracy_score(y_test,y_pred)*100\n",
        "  model_precision, model_recall, model_f1 ,_= precision_recall_fscore_support(y_test,y_pred,average=\"weighted\")\n",
        "  all= {\n",
        "      \"accuracy\":accuracyscore,\n",
        "      \"model_precision\":model_precision,\n",
        "      \"model_recall\" : model_recall,\n",
        "      \"model_f1\": model_f1}\n",
        "  return all"
      ]
    },
    {
      "cell_type": "code",
      "execution_count": 14,
      "metadata": {
        "id": "aRXWoXNBTNjj"
      },
      "outputs": [],
      "source": [
        "baseline_results=calculate_result(validation_result,baseline_pred)"
      ]
    },
    {
      "cell_type": "code",
      "execution_count": 15,
      "metadata": {
        "id": "QfRi7GpdTNln",
        "colab": {
          "base_uri": "https://localhost:8080/"
        },
        "outputId": "8df5525e-1eb0-41b5-a3d3-fd656678df7a"
      },
      "outputs": [
        {
          "output_type": "execute_result",
          "data": {
            "text/plain": [
              "{'accuracy': 79.97373604727511,\n",
              " 'model_precision': 0.8102693639254774,\n",
              " 'model_recall': 0.7997373604727511,\n",
              " 'model_f1': 0.7932459520374361}"
            ]
          },
          "metadata": {},
          "execution_count": 15
        }
      ],
      "source": [
        "baseline_results"
      ]
    },
    {
      "cell_type": "code",
      "execution_count": 16,
      "metadata": {
        "id": "DJkWsdZ1WyF7"
      },
      "outputs": [],
      "source": [
        "import datetime\n",
        "def create_tensorboard_callback(dir_name, experiment_name):\n",
        "\n",
        "  log_dir = dir_name + \"/\" + experiment_name + \"/\" + datetime.datetime.now().strftime(\"%Y%m%d-%H%M%S\")\n",
        "  tensorboard_callback = tf.keras.callbacks.TensorBoard(\n",
        "      log_dir=log_dir\n",
        "  )\n",
        "  print(f\"Saving TensorBoard log files to: {log_dir}\")\n",
        "  return tensorboard_callback"
      ]
    },
    {
      "cell_type": "code",
      "execution_count": 17,
      "metadata": {
        "id": "H_d2shrkWyRZ"
      },
      "outputs": [],
      "source": [
        "SAVE_DIR=\"model_logs\""
      ]
    },
    {
      "cell_type": "code",
      "execution_count": 18,
      "metadata": {
        "id": "X4RCpj2v8MlV"
      },
      "outputs": [],
      "source": [
        "from tensorflow.keras import layers\n",
        "inputs= layers.Input(shape=(1,),dtype=tf.string)\n",
        "x=textvectorizer(inputs)\n",
        "x=embeddingss(x)\n",
        "x = layers.GlobalAveragePooling1D()(x)\n",
        "output=layers.Dense(1,activation='sigmoid')(x)\n",
        "model1=tf.keras.Model(inputs,output,name=\"model_1_dense\")"
      ]
    },
    {
      "cell_type": "code",
      "execution_count": 19,
      "metadata": {
        "id": "3oU-7KuZ8Mru"
      },
      "outputs": [],
      "source": [
        "model1.compile(\n",
        "    optimizer=tf.keras.optimizers.Adam(),\n",
        "    loss=\"binary_crossentropy\",\n",
        "    metrics=['accuracy'],\n",
        ")"
      ]
    },
    {
      "cell_type": "code",
      "execution_count": 20,
      "metadata": {
        "id": "IiRYV75o8Mt8",
        "colab": {
          "base_uri": "https://localhost:8080/"
        },
        "outputId": "40436a53-ba31-4fa8-f8de-950588c294c0"
      },
      "outputs": [
        {
          "output_type": "stream",
          "name": "stdout",
          "text": [
            "Model: \"model_1_dense\"\n",
            "_________________________________________________________________\n",
            " Layer (type)                Output Shape              Param #   \n",
            "=================================================================\n",
            " input_1 (InputLayer)        [(None, 1)]               0         \n",
            "                                                                 \n",
            " text_vectorization_1 (TextV  (None, 15)               0         \n",
            " ectorization)                                                   \n",
            "                                                                 \n",
            " embedding (Embedding)       (None, 15, 128)           1280000   \n",
            "                                                                 \n",
            " global_average_pooling1d (G  (None, 128)              0         \n",
            " lobalAveragePooling1D)                                          \n",
            "                                                                 \n",
            " dense (Dense)               (None, 1)                 129       \n",
            "                                                                 \n",
            "=================================================================\n",
            "Total params: 1,280,129\n",
            "Trainable params: 1,280,129\n",
            "Non-trainable params: 0\n",
            "_________________________________________________________________\n"
          ]
        }
      ],
      "source": [
        "model1.summary()"
      ]
    },
    {
      "cell_type": "code",
      "execution_count": 21,
      "metadata": {
        "colab": {
          "base_uri": "https://localhost:8080/"
        },
        "id": "yqBwqwUE_zKp",
        "outputId": "00fd3bda-9778-486e-9152-f473467bde3b"
      },
      "outputs": [
        {
          "output_type": "stream",
          "name": "stdout",
          "text": [
            "Saving TensorBoard log files to: model_logs/simple_dense_model/20230705-105710\n",
            "Epoch 1/5\n",
            "191/191 [==============================] - 27s 97ms/step - loss: 0.6210 - accuracy: 0.6867 - val_loss: 0.5417 - val_accuracy: 0.7669\n",
            "Epoch 2/5\n",
            "191/191 [==============================] - 5s 23ms/step - loss: 0.4544 - accuracy: 0.8112 - val_loss: 0.4640 - val_accuracy: 0.8024\n",
            "Epoch 3/5\n",
            "191/191 [==============================] - 4s 19ms/step - loss: 0.3548 - accuracy: 0.8571 - val_loss: 0.4462 - val_accuracy: 0.8076\n",
            "Epoch 4/5\n",
            "191/191 [==============================] - 2s 8ms/step - loss: 0.2881 - accuracy: 0.8885 - val_loss: 0.4475 - val_accuracy: 0.8056\n",
            "Epoch 5/5\n",
            "191/191 [==============================] - 1s 6ms/step - loss: 0.2391 - accuracy: 0.9125 - val_loss: 0.4614 - val_accuracy: 0.7971\n"
          ]
        }
      ],
      "source": [
        "history_1=model1.fit(\n",
        "    x=train_sent,\n",
        "    y=train_result,\n",
        "    epochs=5,\n",
        "    validation_data=(validation_sent,validation_result),\n",
        "    callbacks=[create_tensorboard_callback(dir_name=SAVE_DIR,experiment_name=\"simple_dense_model\")])\n"
      ]
    },
    {
      "cell_type": "code",
      "execution_count": 22,
      "metadata": {
        "colab": {
          "base_uri": "https://localhost:8080/"
        },
        "id": "YZn58zmABcgQ",
        "outputId": "d9786f4d-ec93-4a5b-8fbb-bf11caa87155"
      },
      "outputs": [
        {
          "output_type": "stream",
          "name": "stdout",
          "text": [
            "48/48 [==============================] - 0s 3ms/step - loss: 0.4614 - accuracy: 0.7971\n"
          ]
        },
        {
          "output_type": "execute_result",
          "data": {
            "text/plain": [
              "[0.4614374041557312, 0.7971109747886658]"
            ]
          },
          "metadata": {},
          "execution_count": 22
        }
      ],
      "source": [
        "model1.evaluate(validation_sent,validation_result)"
      ]
    },
    {
      "cell_type": "code",
      "execution_count": 23,
      "metadata": {
        "colab": {
          "base_uri": "https://localhost:8080/"
        },
        "id": "bCIiH-qDBcjN",
        "outputId": "e4784fbb-17cc-46b0-f20d-c5232d92107c"
      },
      "outputs": [
        {
          "output_type": "stream",
          "name": "stdout",
          "text": [
            "48/48 [==============================] - 0s 2ms/step\n"
          ]
        }
      ],
      "source": [
        "prediction_value =model1.predict(validation_sent)"
      ]
    },
    {
      "cell_type": "code",
      "execution_count": 24,
      "metadata": {
        "id": "Nln0s4Q0MbVZ"
      },
      "outputs": [],
      "source": [
        "prediction_value=tf.squeeze(tf.round(prediction_value))"
      ]
    },
    {
      "cell_type": "code",
      "execution_count": 25,
      "metadata": {
        "id": "rlywEc_GMbXu"
      },
      "outputs": [],
      "source": [
        "result_model1=calculate_result(validation_result,prediction_value)"
      ]
    },
    {
      "cell_type": "code",
      "execution_count": 26,
      "metadata": {
        "id": "6D46CY5fMbaI"
      },
      "outputs": [],
      "source": [
        "a=textvectorizer([\"hello I'm Rushikesh parab machine learning engineer\"])"
      ]
    },
    {
      "cell_type": "code",
      "execution_count": 27,
      "metadata": {
        "colab": {
          "base_uri": "https://localhost:8080/"
        },
        "id": "mc1XD0B6OAMl",
        "outputId": "a5612222-ff62-4504-e49f-fcc2882c5fbf"
      },
      "outputs": [
        {
          "output_type": "execute_result",
          "data": {
            "text/plain": [
              "<tf.Tensor: shape=(1, 15, 128), dtype=float32, numpy=\n",
              "array([[[-0.03867469,  0.02980481,  0.00025772, ..., -0.00201367,\n",
              "         -0.04063153, -0.00345522],\n",
              "        [-0.11791833,  0.11092636, -0.13148889, ...,  0.05321972,\n",
              "         -0.06867606, -0.15036285],\n",
              "        [-0.00495112,  0.04552926,  0.01349617, ...,  0.0384769 ,\n",
              "          0.04419824,  0.04143978],\n",
              "        ...,\n",
              "        [-0.04950759,  0.04593842, -0.03879189, ...,  0.03214112,\n",
              "         -0.04697413,  0.00926058],\n",
              "        [-0.04950759,  0.04593842, -0.03879189, ...,  0.03214112,\n",
              "         -0.04697413,  0.00926058],\n",
              "        [-0.04950759,  0.04593842, -0.03879189, ...,  0.03214112,\n",
              "         -0.04697413,  0.00926058]]], dtype=float32)>"
            ]
          },
          "metadata": {},
          "execution_count": 27
        }
      ],
      "source": [
        "embeddingss(a)"
      ]
    },
    {
      "cell_type": "markdown",
      "metadata": {
        "id": "BS1m36c1Ok05"
      },
      "source": []
    },
    {
      "cell_type": "code",
      "execution_count": 28,
      "metadata": {
        "id": "T-naTDLuOWYN"
      },
      "outputs": [],
      "source": [
        "weights=embeddingss.weights[0]"
      ]
    },
    {
      "cell_type": "code",
      "source": [
        "\n",
        "# # Code below is adapted from: https://www.tensorflow.org/tutorials/text/word_embeddings#retrieve_the_trained_word_embeddings_and_save_them_to_disk\n",
        "# import io\n",
        "\n",
        "# # Create output writers\n",
        "# out_v = io.open(\"embedding_vectors.tsv\", \"w\", encoding=\"utf-8\")\n",
        "# out_m = io.open(\"embedding_metadata.tsv\", \"w\", encoding=\"utf-8\")\n",
        "\n",
        "# # Write embedding vectors and words to file\n",
        "# for num, word in enumerate(wordss):\n",
        "#   if num == 0:\n",
        "#      continue # skip padding token\n",
        "#   vec = weights[num]\n",
        "#   out_m.write(word + \"\\n\") # write words to file\n",
        "#   out_v.write(\"\\t\".join([str(x) for x in vec]) + \"\\n\") # write corresponding word vector to file\n",
        "# out_v.close()\n",
        "# out_m.close()\n",
        "\n",
        "# # Download files locally to upload to Embedding Projector\n",
        "# try:\n",
        "#   from google.colab import files\n",
        "# except ImportError:\n",
        "#   pass\n",
        "# else:\n",
        "#   files.download(\"embedding_vectors.tsv\")\n",
        "#   files.download(\"embedding_metadata.tsv\")\n",
        "\n",
        "\n"
      ],
      "metadata": {
        "id": "feLCiq_ZWT9q"
      },
      "execution_count": 29,
      "outputs": []
    },
    {
      "cell_type": "code",
      "source": [],
      "metadata": {
        "id": "bO6YQSuxWUGo"
      },
      "execution_count": 29,
      "outputs": []
    },
    {
      "cell_type": "markdown",
      "source": [
        "Model2"
      ],
      "metadata": {
        "id": "U5lQGiCO4SNI"
      }
    },
    {
      "cell_type": "code",
      "source": [
        "input=tf.keras.Input(shape=(1,),dtype=\"string\")\n",
        "x=textvectorizer(input)\n",
        "x=embeddingss(x)\n",
        "print(x.shape)\n",
        "x = layers.LSTM(64)(x)\n",
        "print(x.shape)\n",
        "outputs = layers.Dense(1, activation=\"sigmoid\")(x)\n",
        "model2 = tf.keras.Model(input, outputs, name=\"model_2_LSTM\")"
      ],
      "metadata": {
        "id": "Jv8ickXmBI7G",
        "colab": {
          "base_uri": "https://localhost:8080/"
        },
        "outputId": "65ec4684-feb7-4d12-e758-e5c2a6c040f9"
      },
      "execution_count": 30,
      "outputs": [
        {
          "output_type": "stream",
          "name": "stdout",
          "text": [
            "(None, 15, 128)\n",
            "(None, 64)\n"
          ]
        }
      ]
    },
    {
      "cell_type": "code",
      "source": [
        "model2.compile(optimizer=\"Adam\", loss=\"binary_crossentropy\", metrics=[\"accuracy\"])"
      ],
      "metadata": {
        "id": "MUxY-oCwERRI"
      },
      "execution_count": 31,
      "outputs": []
    },
    {
      "cell_type": "code",
      "source": [
        "model2.summary()"
      ],
      "metadata": {
        "colab": {
          "base_uri": "https://localhost:8080/"
        },
        "id": "X1QljJmeMW9D",
        "outputId": "7a7bfea2-b416-4a57-dbd8-88b5cb51ff9f"
      },
      "execution_count": 32,
      "outputs": [
        {
          "output_type": "stream",
          "name": "stdout",
          "text": [
            "Model: \"model_2_LSTM\"\n",
            "_________________________________________________________________\n",
            " Layer (type)                Output Shape              Param #   \n",
            "=================================================================\n",
            " input_2 (InputLayer)        [(None, 1)]               0         \n",
            "                                                                 \n",
            " text_vectorization_1 (TextV  (None, 15)               0         \n",
            " ectorization)                                                   \n",
            "                                                                 \n",
            " embedding (Embedding)       (None, 15, 128)           1280000   \n",
            "                                                                 \n",
            " lstm (LSTM)                 (None, 64)                49408     \n",
            "                                                                 \n",
            " dense_1 (Dense)             (None, 1)                 65        \n",
            "                                                                 \n",
            "=================================================================\n",
            "Total params: 1,329,473\n",
            "Trainable params: 1,329,473\n",
            "Non-trainable params: 0\n",
            "_________________________________________________________________\n"
          ]
        }
      ]
    },
    {
      "cell_type": "code",
      "source": [
        "model2_history=model2.fit(train_sent,train_result,epochs=5,validation_data=(validation_sent,validation_result))"
      ],
      "metadata": {
        "colab": {
          "base_uri": "https://localhost:8080/"
        },
        "id": "RAo6NUjBMcnw",
        "outputId": "c95366b3-efa9-47f1-db61-73b44c17112c"
      },
      "execution_count": 33,
      "outputs": [
        {
          "output_type": "stream",
          "name": "stdout",
          "text": [
            "Epoch 1/5\n",
            "191/191 [==============================] - 14s 58ms/step - loss: 0.2230 - accuracy: 0.9230 - val_loss: 0.5817 - val_accuracy: 0.7925\n",
            "Epoch 2/5\n",
            "191/191 [==============================] - 3s 16ms/step - loss: 0.1489 - accuracy: 0.9448 - val_loss: 0.5984 - val_accuracy: 0.7774\n",
            "Epoch 3/5\n",
            "191/191 [==============================] - 4s 22ms/step - loss: 0.1155 - accuracy: 0.9585 - val_loss: 0.7117 - val_accuracy: 0.7827\n",
            "Epoch 4/5\n",
            "191/191 [==============================] - 2s 9ms/step - loss: 0.0987 - accuracy: 0.9639 - val_loss: 0.7665 - val_accuracy: 0.7676\n",
            "Epoch 5/5\n",
            "191/191 [==============================] - 2s 8ms/step - loss: 0.0758 - accuracy: 0.9713 - val_loss: 1.1187 - val_accuracy: 0.7577\n"
          ]
        }
      ]
    },
    {
      "cell_type": "code",
      "source": [
        "model_2_pred_probs = model2.predict(validation_sent)"
      ],
      "metadata": {
        "colab": {
          "base_uri": "https://localhost:8080/"
        },
        "id": "a0B2FyflaHFY",
        "outputId": "351103b3-3a6d-40cc-f8e4-0dec24957454"
      },
      "execution_count": 34,
      "outputs": [
        {
          "output_type": "stream",
          "name": "stdout",
          "text": [
            "48/48 [==============================] - 1s 3ms/step\n"
          ]
        }
      ]
    },
    {
      "cell_type": "code",
      "source": [
        "model_2_pred_probs.shape"
      ],
      "metadata": {
        "colab": {
          "base_uri": "https://localhost:8080/"
        },
        "id": "g-7-CJIOe6dO",
        "outputId": "7e85b77e-e964-4709-e189-e6f66d2747e9"
      },
      "execution_count": 35,
      "outputs": [
        {
          "output_type": "execute_result",
          "data": {
            "text/plain": [
              "(1523, 1)"
            ]
          },
          "metadata": {},
          "execution_count": 35
        }
      ]
    },
    {
      "cell_type": "code",
      "source": [
        "model_2_preds = tf.squeeze(tf.round(model_2_pred_probs))\n",
        "model_2_preds[:10]\n"
      ],
      "metadata": {
        "colab": {
          "base_uri": "https://localhost:8080/"
        },
        "id": "ITo3WAWMe8uG",
        "outputId": "30d4d450-7201-4fd7-e79f-dbbae32238b4"
      },
      "execution_count": 36,
      "outputs": [
        {
          "output_type": "execute_result",
          "data": {
            "text/plain": [
              "<tf.Tensor: shape=(10,), dtype=float32, numpy=array([0., 0., 0., 0., 1., 0., 0., 0., 0., 1.], dtype=float32)>"
            ]
          },
          "metadata": {},
          "execution_count": 36
        }
      ]
    },
    {
      "cell_type": "code",
      "source": [
        "result_model2=calculate_result(validation_result,model_2_preds)"
      ],
      "metadata": {
        "id": "MYsYc96CfGgq"
      },
      "execution_count": 37,
      "outputs": []
    },
    {
      "cell_type": "markdown",
      "source": [
        "Model3"
      ],
      "metadata": {
        "id": "DC8jQj0t4eZo"
      }
    },
    {
      "cell_type": "code",
      "source": [
        "\n",
        "inputs = layers.Input(shape=(1,), dtype=\"string\")\n",
        "x = textvectorizer(inputs)\n",
        "x = embeddingss(x)\n",
        "# x = layers.GRU(64, return_sequences=True) # stacking recurrent cells requires return_sequences=True\n",
        "x = layers.GRU(64)(x)\n",
        "# x = layers.Dense(64, activation=\"relu\")(x) # optional dense layer after GRU cell\n",
        "outputs = layers.Dense(1, activation=\"sigmoid\")(x)\n",
        "model3 = tf.keras.Model(inputs, outputs, name=\"model_3_GRU\")"
      ],
      "metadata": {
        "id": "c6ZJhiUzfNHv"
      },
      "execution_count": 38,
      "outputs": []
    },
    {
      "cell_type": "code",
      "source": [
        "model3.compile(loss=\"binary_crossentropy\",\n",
        "                optimizer=tf.keras.optimizers.Adam(),\n",
        "                metrics=[\"accuracy\"])\n"
      ],
      "metadata": {
        "id": "94tR_8gUWnmR"
      },
      "execution_count": 39,
      "outputs": []
    },
    {
      "cell_type": "code",
      "source": [
        "model3.summary()"
      ],
      "metadata": {
        "colab": {
          "base_uri": "https://localhost:8080/"
        },
        "id": "TdPakznHa6S5",
        "outputId": "ad6421f1-fb69-4968-9388-3acaff897e55"
      },
      "execution_count": 40,
      "outputs": [
        {
          "output_type": "stream",
          "name": "stdout",
          "text": [
            "Model: \"model_3_GRU\"\n",
            "_________________________________________________________________\n",
            " Layer (type)                Output Shape              Param #   \n",
            "=================================================================\n",
            " input_3 (InputLayer)        [(None, 1)]               0         \n",
            "                                                                 \n",
            " text_vectorization_1 (TextV  (None, 15)               0         \n",
            " ectorization)                                                   \n",
            "                                                                 \n",
            " embedding (Embedding)       (None, 15, 128)           1280000   \n",
            "                                                                 \n",
            " gru (GRU)                   (None, 64)                37248     \n",
            "                                                                 \n",
            " dense_2 (Dense)             (None, 1)                 65        \n",
            "                                                                 \n",
            "=================================================================\n",
            "Total params: 1,317,313\n",
            "Trainable params: 1,317,313\n",
            "Non-trainable params: 0\n",
            "_________________________________________________________________\n"
          ]
        }
      ]
    },
    {
      "cell_type": "code",
      "source": [
        "model3_history=model3.fit(train_sent,train_result,epochs=5,validation_data=(validation_sent,validation_result))\n"
      ],
      "metadata": {
        "colab": {
          "base_uri": "https://localhost:8080/"
        },
        "id": "dYihYbSrbCAz",
        "outputId": "973a7c2e-72e1-4d56-b8e5-f803e6056770"
      },
      "execution_count": 41,
      "outputs": [
        {
          "output_type": "stream",
          "name": "stdout",
          "text": [
            "Epoch 1/5\n",
            "191/191 [==============================] - 14s 54ms/step - loss: 0.1594 - accuracy: 0.9333 - val_loss: 0.8630 - val_accuracy: 0.7735\n",
            "Epoch 2/5\n",
            "191/191 [==============================] - 6s 29ms/step - loss: 0.0749 - accuracy: 0.9731 - val_loss: 0.7526 - val_accuracy: 0.7735\n",
            "Epoch 3/5\n",
            "191/191 [==============================] - 3s 17ms/step - loss: 0.0623 - accuracy: 0.9778 - val_loss: 0.8884 - val_accuracy: 0.7617\n",
            "Epoch 4/5\n",
            "191/191 [==============================] - 2s 10ms/step - loss: 0.0564 - accuracy: 0.9785 - val_loss: 1.0815 - val_accuracy: 0.7610\n",
            "Epoch 5/5\n",
            "191/191 [==============================] - 1s 8ms/step - loss: 0.0478 - accuracy: 0.9805 - val_loss: 1.1294 - val_accuracy: 0.7485\n"
          ]
        }
      ]
    },
    {
      "cell_type": "code",
      "source": [
        "model_3_pred_probs = model3.predict(validation_sent)\n",
        "model_3_preds = tf.squeeze(tf.round(model_3_pred_probs))"
      ],
      "metadata": {
        "colab": {
          "base_uri": "https://localhost:8080/"
        },
        "id": "__GKK94o4q9h",
        "outputId": "42a8c502-136c-4413-dd81-718c194e71bd"
      },
      "execution_count": 42,
      "outputs": [
        {
          "output_type": "stream",
          "name": "stdout",
          "text": [
            "48/48 [==============================] - 0s 3ms/step\n"
          ]
        }
      ]
    },
    {
      "cell_type": "code",
      "source": [
        "result_model3= calculate_result(validation_result,\n",
        "                                    model_3_preds)"
      ],
      "metadata": {
        "id": "v6p4cgAn4q_X"
      },
      "execution_count": 43,
      "outputs": []
    },
    {
      "cell_type": "markdown",
      "source": [
        "Model 4"
      ],
      "metadata": {
        "id": "pY2EYwPo4ini"
      }
    },
    {
      "cell_type": "code",
      "source": [
        "# Build a Bidirectional RNN in TensorFlow\n",
        "inputs = layers.Input(shape=(1,), dtype=\"string\")\n",
        "x = textvectorizer(inputs)\n",
        "x = embeddingss(x)\n",
        "# x = layers.Bidirectional(layers.LSTM(64, return_sequences=True))(x) # stacking RNN layers requires return_sequences=True\n",
        "x = layers.Bidirectional(layers.LSTM(64))(x) # bidirectional goes both ways so has double the parameters of a regular LSTM layer\n",
        "outputs = layers.Dense(1, activation=\"sigmoid\")(x)\n",
        "model4 = tf.keras.Model(inputs, outputs, name=\"model_4_Bidirectional\")"
      ],
      "metadata": {
        "id": "pSZQlkS2qpfC"
      },
      "execution_count": 44,
      "outputs": []
    },
    {
      "cell_type": "code",
      "source": [
        "model4.summary()"
      ],
      "metadata": {
        "colab": {
          "base_uri": "https://localhost:8080/"
        },
        "id": "uA2um3Kf5DwL",
        "outputId": "3ad73d77-a400-4db6-f4b4-66c20bc92e57"
      },
      "execution_count": 45,
      "outputs": [
        {
          "output_type": "stream",
          "name": "stdout",
          "text": [
            "Model: \"model_4_Bidirectional\"\n",
            "_________________________________________________________________\n",
            " Layer (type)                Output Shape              Param #   \n",
            "=================================================================\n",
            " input_4 (InputLayer)        [(None, 1)]               0         \n",
            "                                                                 \n",
            " text_vectorization_1 (TextV  (None, 15)               0         \n",
            " ectorization)                                                   \n",
            "                                                                 \n",
            " embedding (Embedding)       (None, 15, 128)           1280000   \n",
            "                                                                 \n",
            " bidirectional (Bidirectiona  (None, 128)              98816     \n",
            " l)                                                              \n",
            "                                                                 \n",
            " dense_3 (Dense)             (None, 1)                 129       \n",
            "                                                                 \n",
            "=================================================================\n",
            "Total params: 1,378,945\n",
            "Trainable params: 1,378,945\n",
            "Non-trainable params: 0\n",
            "_________________________________________________________________\n"
          ]
        }
      ]
    },
    {
      "cell_type": "code",
      "source": [
        "model4.compile(loss=\"binary_crossentropy\",\n",
        "                optimizer=tf.keras.optimizers.Adam(),\n",
        "                metrics=[\"accuracy\"])"
      ],
      "metadata": {
        "id": "w55GzCuY4NUy"
      },
      "execution_count": 46,
      "outputs": []
    },
    {
      "cell_type": "code",
      "source": [
        "mode4_history=model4.fit(train_sent,train_result,epochs=5,validation_data=(validation_sent,validation_result))"
      ],
      "metadata": {
        "colab": {
          "base_uri": "https://localhost:8080/"
        },
        "id": "-B0Ur6tT3_5b",
        "outputId": "9ec55ccf-0513-4577-aee1-7aec06e81152"
      },
      "execution_count": 47,
      "outputs": [
        {
          "output_type": "stream",
          "name": "stdout",
          "text": [
            "Epoch 1/5\n",
            "191/191 [==============================] - 16s 62ms/step - loss: 0.0991 - accuracy: 0.9757 - val_loss: 0.9328 - val_accuracy: 0.7584\n",
            "Epoch 2/5\n",
            "191/191 [==============================] - 4s 18ms/step - loss: 0.0494 - accuracy: 0.9775 - val_loss: 1.0522 - val_accuracy: 0.7577\n",
            "Epoch 3/5\n",
            "191/191 [==============================] - 4s 21ms/step - loss: 0.0394 - accuracy: 0.9814 - val_loss: 1.3075 - val_accuracy: 0.7577\n",
            "Epoch 4/5\n",
            "191/191 [==============================] - 2s 13ms/step - loss: 0.0398 - accuracy: 0.9808 - val_loss: 1.4565 - val_accuracy: 0.7584\n",
            "Epoch 5/5\n",
            "191/191 [==============================] - 2s 9ms/step - loss: 0.0346 - accuracy: 0.9834 - val_loss: 1.4633 - val_accuracy: 0.7446\n"
          ]
        }
      ]
    },
    {
      "cell_type": "code",
      "source": [
        "# Make predictions with bidirectional RNN on the validation data\n",
        "model_4_pred_probs = model4.predict(validation_sent)\n",
        "model_4_preds = tf.squeeze(tf.round(model_4_pred_probs))\n"
      ],
      "metadata": {
        "id": "CUrlxgtrqrRp",
        "colab": {
          "base_uri": "https://localhost:8080/"
        },
        "outputId": "86875e4d-b9b7-4930-c0e0-0344890dbea6"
      },
      "execution_count": 48,
      "outputs": [
        {
          "output_type": "stream",
          "name": "stdout",
          "text": [
            "48/48 [==============================] - 1s 3ms/step\n"
          ]
        }
      ]
    },
    {
      "cell_type": "code",
      "source": [],
      "metadata": {
        "id": "aE6qE3Ek39iL"
      },
      "execution_count": 48,
      "outputs": []
    },
    {
      "cell_type": "code",
      "source": [
        "result_model4 = calculate_result(validation_result,model_4_preds)\n",
        "result_model4"
      ],
      "metadata": {
        "id": "W1isSmf8qrTS",
        "colab": {
          "base_uri": "https://localhost:8080/"
        },
        "outputId": "7fabcc89-6220-4891-c556-e5c7b75d11ef"
      },
      "execution_count": 49,
      "outputs": [
        {
          "output_type": "execute_result",
          "data": {
            "text/plain": [
              "{'accuracy': 74.45830597504924,\n",
              " 'model_precision': 0.7456935548906564,\n",
              " 'model_recall': 0.7445830597504924,\n",
              " 'model_f1': 0.7450220852554396}"
            ]
          },
          "metadata": {},
          "execution_count": 49
        }
      ]
    },
    {
      "cell_type": "markdown",
      "source": [
        "Model 5"
      ],
      "metadata": {
        "id": "6TP-sDNG4Wnp"
      }
    },
    {
      "cell_type": "code",
      "source": [
        "input= layers.Input(shape=(1,), dtype=\"string\")\n",
        "x=textvectorizer(input)\n",
        "x=embeddingss(x)\n",
        "print(x)\n",
        "print(x.shape)\n",
        "x=layers.Conv1D(filters=32, kernel_size=5, activation=\"relu\")(x)\n",
        "print(x)\n",
        "print(x.shape)\n",
        "\n",
        "x=layers.GlobalMaxPool1D()(x)\n",
        "print(x)\n",
        "print(x.shape)\n",
        "\n",
        "outputs = layers.Dense(1, activation=\"sigmoid\")(x)\n",
        "model5 = tf.keras.Model(input, outputs, name=\"model_5_Conv1D\")\n"
      ],
      "metadata": {
        "id": "PDOnXqXWqrW2",
        "colab": {
          "base_uri": "https://localhost:8080/"
        },
        "outputId": "caaffbfa-7143-4b72-8edc-4e50aab04ad3"
      },
      "execution_count": 50,
      "outputs": [
        {
          "output_type": "stream",
          "name": "stdout",
          "text": [
            "KerasTensor(type_spec=TensorSpec(shape=(None, 15, 128), dtype=tf.float32, name=None), name='embedding/embedding_lookup/Identity_1:0', description=\"created by layer 'embedding'\")\n",
            "(None, 15, 128)\n",
            "KerasTensor(type_spec=TensorSpec(shape=(None, 11, 32), dtype=tf.float32, name=None), name='conv1d/Relu:0', description=\"created by layer 'conv1d'\")\n",
            "(None, 11, 32)\n",
            "KerasTensor(type_spec=TensorSpec(shape=(None, 32), dtype=tf.float32, name=None), name='global_max_pooling1d/Max:0', description=\"created by layer 'global_max_pooling1d'\")\n",
            "(None, 32)\n"
          ]
        }
      ]
    },
    {
      "cell_type": "code",
      "source": [
        "model5.compile(loss=\"binary_crossentropy\",\n",
        "                optimizer=tf.keras.optimizers.Adam(),\n",
        "                metrics=[\"accuracy\"])\n"
      ],
      "metadata": {
        "id": "ljBboaCThvrq"
      },
      "execution_count": 51,
      "outputs": []
    },
    {
      "cell_type": "code",
      "source": [
        "model5.summary()"
      ],
      "metadata": {
        "colab": {
          "base_uri": "https://localhost:8080/"
        },
        "id": "dLE13l2s45bh",
        "outputId": "df217c36-9d39-456c-e216-0aff62824414"
      },
      "execution_count": 52,
      "outputs": [
        {
          "output_type": "stream",
          "name": "stdout",
          "text": [
            "Model: \"model_5_Conv1D\"\n",
            "_________________________________________________________________\n",
            " Layer (type)                Output Shape              Param #   \n",
            "=================================================================\n",
            " input_5 (InputLayer)        [(None, 1)]               0         \n",
            "                                                                 \n",
            " text_vectorization_1 (TextV  (None, 15)               0         \n",
            " ectorization)                                                   \n",
            "                                                                 \n",
            " embedding (Embedding)       (None, 15, 128)           1280000   \n",
            "                                                                 \n",
            " conv1d (Conv1D)             (None, 11, 32)            20512     \n",
            "                                                                 \n",
            " global_max_pooling1d (Globa  (None, 32)               0         \n",
            " lMaxPooling1D)                                                  \n",
            "                                                                 \n",
            " dense_4 (Dense)             (None, 1)                 33        \n",
            "                                                                 \n",
            "=================================================================\n",
            "Total params: 1,300,545\n",
            "Trainable params: 1,300,545\n",
            "Non-trainable params: 0\n",
            "_________________________________________________________________\n"
          ]
        }
      ]
    },
    {
      "cell_type": "code",
      "source": [
        "model_5_history = model5.fit(train_sent,train_result,epochs=5,validation_data=(validation_sent,validation_result))"
      ],
      "metadata": {
        "colab": {
          "base_uri": "https://localhost:8080/"
        },
        "id": "NwcAEiWV3fCK",
        "outputId": "5066a1da-d240-469a-82d1-6a2b7612e9b9"
      },
      "execution_count": 53,
      "outputs": [
        {
          "output_type": "stream",
          "name": "stdout",
          "text": [
            "Epoch 1/5\n",
            "191/191 [==============================] - 17s 56ms/step - loss: 0.1200 - accuracy: 0.9677 - val_loss: 0.9277 - val_accuracy: 0.7505\n",
            "Epoch 2/5\n",
            "191/191 [==============================] - 4s 18ms/step - loss: 0.0658 - accuracy: 0.9736 - val_loss: 1.0817 - val_accuracy: 0.7531\n",
            "Epoch 3/5\n",
            "191/191 [==============================] - 3s 18ms/step - loss: 0.0520 - accuracy: 0.9777 - val_loss: 1.1784 - val_accuracy: 0.7466\n",
            "Epoch 4/5\n",
            "191/191 [==============================] - 2s 8ms/step - loss: 0.0468 - accuracy: 0.9811 - val_loss: 1.2819 - val_accuracy: 0.7479\n",
            "Epoch 5/5\n",
            "191/191 [==============================] - 1s 7ms/step - loss: 0.0448 - accuracy: 0.9823 - val_loss: 1.2921 - val_accuracy: 0.7354\n"
          ]
        }
      ]
    },
    {
      "cell_type": "code",
      "source": [
        "model_5_pred_probs = model5.predict(validation_sent)\n",
        "print(model_5_pred_probs.shape)\n",
        "model_5_preds = tf.squeeze(tf.round(model_5_pred_probs))\n",
        "\n"
      ],
      "metadata": {
        "colab": {
          "base_uri": "https://localhost:8080/"
        },
        "id": "-akJmrkBh0f2",
        "outputId": "7dc9f327-c1c1-46c6-a631-493b8fe66746"
      },
      "execution_count": 54,
      "outputs": [
        {
          "output_type": "stream",
          "name": "stdout",
          "text": [
            "48/48 [==============================] - 0s 2ms/step\n",
            "(1523, 1)\n"
          ]
        }
      ]
    },
    {
      "cell_type": "code",
      "source": [
        "result_model5 = calculate_result(validation_result,model_5_preds)\n",
        "result_model5"
      ],
      "metadata": {
        "id": "DJcH4ltR5RpQ",
        "colab": {
          "base_uri": "https://localhost:8080/"
        },
        "outputId": "66d6924f-c5a5-4011-f377-a9a03597d92b"
      },
      "execution_count": 55,
      "outputs": [
        {
          "output_type": "execute_result",
          "data": {
            "text/plain": [
              "{'accuracy': 73.53906762967827,\n",
              " 'model_precision': 0.7377086906248691,\n",
              " 'model_recall': 0.7353906762967827,\n",
              " 'model_f1': 0.7361612945216657}"
            ]
          },
          "metadata": {},
          "execution_count": 55
        }
      ]
    },
    {
      "cell_type": "markdown",
      "source": [],
      "metadata": {
        "id": "bnhkhD5FQY6v"
      }
    },
    {
      "cell_type": "markdown",
      "source": [],
      "metadata": {
        "id": "aGNrVkQAQY-Q"
      }
    },
    {
      "cell_type": "code",
      "source": [
        "import tensorflow_hub as hub\n",
        "embed = hub.load(\"https://tfhub.dev/google/universal-sentence-encoder/4\")\n",
        "embed_samples = embed([\n",
        "                      \"When you call the universal sentence encoder on a sentence, it turns it into numbers.\"])\n",
        "\n",
        "print(embed_samples.shape)"
      ],
      "metadata": {
        "colab": {
          "base_uri": "https://localhost:8080/"
        },
        "id": "C84z91AOS0Vy",
        "outputId": "0dae3352-6a42-48f1-9e77-da0e3fa9319b"
      },
      "execution_count": 56,
      "outputs": [
        {
          "output_type": "stream",
          "name": "stdout",
          "text": [
            "(1, 512)\n"
          ]
        }
      ]
    },
    {
      "cell_type": "code",
      "source": [
        "import tensorflow_hub as hub\n",
        "\n",
        "\n",
        "sentence_encoder_layer = hub.KerasLayer(\"https://tfhub.dev/google/universal-sentence-encoder/4\",\n",
        "                                        input_shape=[],\n",
        "                                        dtype=tf.string,\n",
        "                                        trainable=False,\n",
        "                                        name=\"USE\")"
      ],
      "metadata": {
        "id": "rkZcUH1ZQZgL"
      },
      "execution_count": 57,
      "outputs": []
    },
    {
      "cell_type": "code",
      "source": [
        "model6 = tf.keras.Sequential([\n",
        "    sentence_encoder_layer,\n",
        "    layers.Dense(64,activation=\"relu\"),\n",
        "    layers.Dense(1, activation=\"sigmoid\")\n",
        "    ], name=\"model_6_USE\")\n",
        "\n",
        "model6.compile(loss=\"binary_crossentropy\",\n",
        "                optimizer=tf.keras.optimizers.Adam(),\n",
        "                metrics=[\"accuracy\"])\n",
        "model6.summary()"
      ],
      "metadata": {
        "colab": {
          "base_uri": "https://localhost:8080/"
        },
        "id": "dDibrBW1QZjs",
        "outputId": "375e5913-8fb6-4d8e-cb08-1328e2051232"
      },
      "execution_count": 58,
      "outputs": [
        {
          "output_type": "stream",
          "name": "stdout",
          "text": [
            "Model: \"model_6_USE\"\n",
            "_________________________________________________________________\n",
            " Layer (type)                Output Shape              Param #   \n",
            "=================================================================\n",
            " USE (KerasLayer)            (None, 512)               256797824 \n",
            "                                                                 \n",
            " dense_5 (Dense)             (None, 64)                32832     \n",
            "                                                                 \n",
            " dense_6 (Dense)             (None, 1)                 65        \n",
            "                                                                 \n",
            "=================================================================\n",
            "Total params: 256,830,721\n",
            "Trainable params: 32,897\n",
            "Non-trainable params: 256,797,824\n",
            "_________________________________________________________________\n"
          ]
        }
      ]
    },
    {
      "cell_type": "code",
      "source": [
        "model_6_history = model6.fit(train_sent,\n",
        "                              train_result,\n",
        "                              epochs=5,\n",
        "                              validation_data=(validation_sent, validation_result)\n",
        "                             )"
      ],
      "metadata": {
        "colab": {
          "base_uri": "https://localhost:8080/"
        },
        "id": "GeLzuqtq4HKI",
        "outputId": "c705e3e0-6adb-458a-8188-b6e4148371b7"
      },
      "execution_count": 59,
      "outputs": [
        {
          "output_type": "stream",
          "name": "stdout",
          "text": [
            "Epoch 1/5\n",
            "191/191 [==============================] - 6s 16ms/step - loss: 0.5108 - accuracy: 0.7852 - val_loss: 0.4312 - val_accuracy: 0.8076\n",
            "Epoch 2/5\n",
            "191/191 [==============================] - 3s 18ms/step - loss: 0.4204 - accuracy: 0.8146 - val_loss: 0.4116 - val_accuracy: 0.8188\n",
            "Epoch 3/5\n",
            "191/191 [==============================] - 4s 20ms/step - loss: 0.4044 - accuracy: 0.8213 - val_loss: 0.4127 - val_accuracy: 0.8221\n",
            "Epoch 4/5\n",
            "191/191 [==============================] - 3s 14ms/step - loss: 0.3935 - accuracy: 0.8294 - val_loss: 0.4119 - val_accuracy: 0.8207\n",
            "Epoch 5/5\n",
            "191/191 [==============================] - 3s 14ms/step - loss: 0.3871 - accuracy: 0.8287 - val_loss: 0.4163 - val_accuracy: 0.8194\n"
          ]
        }
      ]
    },
    {
      "cell_type": "code",
      "source": [
        "model_6_pred_probs = model6.predict(validation_sent)\n",
        "model_6_preds = tf.squeeze(tf.round(model_6_pred_probs))"
      ],
      "metadata": {
        "colab": {
          "base_uri": "https://localhost:8080/"
        },
        "id": "s0_QQ64h5c8l",
        "outputId": "648b8cea-c480-4f48-f593-322364607b7d"
      },
      "execution_count": 60,
      "outputs": [
        {
          "output_type": "stream",
          "name": "stdout",
          "text": [
            "48/48 [==============================] - 1s 16ms/step\n"
          ]
        }
      ]
    },
    {
      "cell_type": "code",
      "source": [
        "result_model6 = calculate_result(validation_result,model_6_preds)\n",
        "result_model6"
      ],
      "metadata": {
        "colab": {
          "base_uri": "https://localhost:8080/"
        },
        "id": "YyQ0HhWI5c-d",
        "outputId": "3aec97c5-1b0c-49d6-e202-0544f5fdec92"
      },
      "execution_count": 61,
      "outputs": [
        {
          "output_type": "execute_result",
          "data": {
            "text/plain": [
              "{'accuracy': 81.94353250164149,\n",
              " 'model_precision': 0.8194000620700118,\n",
              " 'model_recall': 0.8194353250164149,\n",
              " 'model_f1': 0.8194173358332375}"
            ]
          },
          "metadata": {},
          "execution_count": 61
        }
      ]
    },
    {
      "cell_type": "code",
      "source": [
        "all_model_results = pd.DataFrame({\"baseline\": baseline_results,\n",
        "                                  \"simple_dense\": result_model1,\n",
        "                                  \"lstm\": result_model2,\n",
        "                                  \"gru\": result_model3,\n",
        "                                  \"bidirectional\": result_model4,\n",
        "                                  \"conv1d\": result_model5,\n",
        "                                  \"tf_hub_sentence_encoder\": result_model6\n",
        "                                  })\n",
        "all_model_results = all_model_results.transpose()\n",
        "all_model_results"
      ],
      "metadata": {
        "colab": {
          "base_uri": "https://localhost:8080/",
          "height": 269
        },
        "id": "Ji3lXqMN1PJg",
        "outputId": "a6ad92af-9b9f-498f-e8d4-9ff150d66ca8"
      },
      "execution_count": 62,
      "outputs": [
        {
          "output_type": "execute_result",
          "data": {
            "text/plain": [
              "                          accuracy  model_precision  model_recall  model_f1\n",
              "baseline                 79.973736         0.810269      0.799737  0.793246\n",
              "simple_dense             79.711097         0.796375      0.797111  0.796448\n",
              "lstm                     75.771504         0.760930      0.757715  0.758601\n",
              "gru                      74.852265         0.751787      0.748523  0.749442\n",
              "bidirectional            74.458306         0.745694      0.744583  0.745022\n",
              "conv1d                   73.539068         0.737709      0.735391  0.736161\n",
              "tf_hub_sentence_encoder  81.943533         0.819400      0.819435  0.819417"
            ],
            "text/html": [
              "\n",
              "  <div id=\"df-314081b5-e0d1-43cc-b515-a0c8f6202dda\">\n",
              "    <div class=\"colab-df-container\">\n",
              "      <div>\n",
              "<style scoped>\n",
              "    .dataframe tbody tr th:only-of-type {\n",
              "        vertical-align: middle;\n",
              "    }\n",
              "\n",
              "    .dataframe tbody tr th {\n",
              "        vertical-align: top;\n",
              "    }\n",
              "\n",
              "    .dataframe thead th {\n",
              "        text-align: right;\n",
              "    }\n",
              "</style>\n",
              "<table border=\"1\" class=\"dataframe\">\n",
              "  <thead>\n",
              "    <tr style=\"text-align: right;\">\n",
              "      <th></th>\n",
              "      <th>accuracy</th>\n",
              "      <th>model_precision</th>\n",
              "      <th>model_recall</th>\n",
              "      <th>model_f1</th>\n",
              "    </tr>\n",
              "  </thead>\n",
              "  <tbody>\n",
              "    <tr>\n",
              "      <th>baseline</th>\n",
              "      <td>79.973736</td>\n",
              "      <td>0.810269</td>\n",
              "      <td>0.799737</td>\n",
              "      <td>0.793246</td>\n",
              "    </tr>\n",
              "    <tr>\n",
              "      <th>simple_dense</th>\n",
              "      <td>79.711097</td>\n",
              "      <td>0.796375</td>\n",
              "      <td>0.797111</td>\n",
              "      <td>0.796448</td>\n",
              "    </tr>\n",
              "    <tr>\n",
              "      <th>lstm</th>\n",
              "      <td>75.771504</td>\n",
              "      <td>0.760930</td>\n",
              "      <td>0.757715</td>\n",
              "      <td>0.758601</td>\n",
              "    </tr>\n",
              "    <tr>\n",
              "      <th>gru</th>\n",
              "      <td>74.852265</td>\n",
              "      <td>0.751787</td>\n",
              "      <td>0.748523</td>\n",
              "      <td>0.749442</td>\n",
              "    </tr>\n",
              "    <tr>\n",
              "      <th>bidirectional</th>\n",
              "      <td>74.458306</td>\n",
              "      <td>0.745694</td>\n",
              "      <td>0.744583</td>\n",
              "      <td>0.745022</td>\n",
              "    </tr>\n",
              "    <tr>\n",
              "      <th>conv1d</th>\n",
              "      <td>73.539068</td>\n",
              "      <td>0.737709</td>\n",
              "      <td>0.735391</td>\n",
              "      <td>0.736161</td>\n",
              "    </tr>\n",
              "    <tr>\n",
              "      <th>tf_hub_sentence_encoder</th>\n",
              "      <td>81.943533</td>\n",
              "      <td>0.819400</td>\n",
              "      <td>0.819435</td>\n",
              "      <td>0.819417</td>\n",
              "    </tr>\n",
              "  </tbody>\n",
              "</table>\n",
              "</div>\n",
              "      <button class=\"colab-df-convert\" onclick=\"convertToInteractive('df-314081b5-e0d1-43cc-b515-a0c8f6202dda')\"\n",
              "              title=\"Convert this dataframe to an interactive table.\"\n",
              "              style=\"display:none;\">\n",
              "        \n",
              "  <svg xmlns=\"http://www.w3.org/2000/svg\" height=\"24px\"viewBox=\"0 0 24 24\"\n",
              "       width=\"24px\">\n",
              "    <path d=\"M0 0h24v24H0V0z\" fill=\"none\"/>\n",
              "    <path d=\"M18.56 5.44l.94 2.06.94-2.06 2.06-.94-2.06-.94-.94-2.06-.94 2.06-2.06.94zm-11 1L8.5 8.5l.94-2.06 2.06-.94-2.06-.94L8.5 2.5l-.94 2.06-2.06.94zm10 10l.94 2.06.94-2.06 2.06-.94-2.06-.94-.94-2.06-.94 2.06-2.06.94z\"/><path d=\"M17.41 7.96l-1.37-1.37c-.4-.4-.92-.59-1.43-.59-.52 0-1.04.2-1.43.59L10.3 9.45l-7.72 7.72c-.78.78-.78 2.05 0 2.83L4 21.41c.39.39.9.59 1.41.59.51 0 1.02-.2 1.41-.59l7.78-7.78 2.81-2.81c.8-.78.8-2.07 0-2.86zM5.41 20L4 18.59l7.72-7.72 1.47 1.35L5.41 20z\"/>\n",
              "  </svg>\n",
              "      </button>\n",
              "      \n",
              "  <style>\n",
              "    .colab-df-container {\n",
              "      display:flex;\n",
              "      flex-wrap:wrap;\n",
              "      gap: 12px;\n",
              "    }\n",
              "\n",
              "    .colab-df-convert {\n",
              "      background-color: #E8F0FE;\n",
              "      border: none;\n",
              "      border-radius: 50%;\n",
              "      cursor: pointer;\n",
              "      display: none;\n",
              "      fill: #1967D2;\n",
              "      height: 32px;\n",
              "      padding: 0 0 0 0;\n",
              "      width: 32px;\n",
              "    }\n",
              "\n",
              "    .colab-df-convert:hover {\n",
              "      background-color: #E2EBFA;\n",
              "      box-shadow: 0px 1px 2px rgba(60, 64, 67, 0.3), 0px 1px 3px 1px rgba(60, 64, 67, 0.15);\n",
              "      fill: #174EA6;\n",
              "    }\n",
              "\n",
              "    [theme=dark] .colab-df-convert {\n",
              "      background-color: #3B4455;\n",
              "      fill: #D2E3FC;\n",
              "    }\n",
              "\n",
              "    [theme=dark] .colab-df-convert:hover {\n",
              "      background-color: #434B5C;\n",
              "      box-shadow: 0px 1px 3px 1px rgba(0, 0, 0, 0.15);\n",
              "      filter: drop-shadow(0px 1px 2px rgba(0, 0, 0, 0.3));\n",
              "      fill: #FFFFFF;\n",
              "    }\n",
              "  </style>\n",
              "\n",
              "      <script>\n",
              "        const buttonEl =\n",
              "          document.querySelector('#df-314081b5-e0d1-43cc-b515-a0c8f6202dda button.colab-df-convert');\n",
              "        buttonEl.style.display =\n",
              "          google.colab.kernel.accessAllowed ? 'block' : 'none';\n",
              "\n",
              "        async function convertToInteractive(key) {\n",
              "          const element = document.querySelector('#df-314081b5-e0d1-43cc-b515-a0c8f6202dda');\n",
              "          const dataTable =\n",
              "            await google.colab.kernel.invokeFunction('convertToInteractive',\n",
              "                                                     [key], {});\n",
              "          if (!dataTable) return;\n",
              "\n",
              "          const docLinkHtml = 'Like what you see? Visit the ' +\n",
              "            '<a target=\"_blank\" href=https://colab.research.google.com/notebooks/data_table.ipynb>data table notebook</a>'\n",
              "            + ' to learn more about interactive tables.';\n",
              "          element.innerHTML = '';\n",
              "          dataTable['output_type'] = 'display_data';\n",
              "          await google.colab.output.renderOutput(dataTable, element);\n",
              "          const docLink = document.createElement('div');\n",
              "          docLink.innerHTML = docLinkHtml;\n",
              "          element.appendChild(docLink);\n",
              "        }\n",
              "      </script>\n",
              "    </div>\n",
              "  </div>\n",
              "  "
            ]
          },
          "metadata": {},
          "execution_count": 62
        }
      ]
    },
    {
      "cell_type": "code",
      "source": [],
      "metadata": {
        "id": "V4ZqIxq-1PLl"
      },
      "execution_count": 62,
      "outputs": []
    },
    {
      "cell_type": "markdown",
      "source": [
        "0 = Not a real diaster Tweet\n",
        "\n",
        "\n",
        "1 = Real diaster Tweet"
      ],
      "metadata": {
        "id": "QXzzJ9YVt_fa"
      }
    },
    {
      "cell_type": "code",
      "source": [
        "# Turn Tweet into string\n",
        "daniels_tweet = \"Life like an ensemble: take the best choices from others and make your own\""
      ],
      "metadata": {
        "id": "FH3pny1M1PP3"
      },
      "execution_count": 65,
      "outputs": []
    },
    {
      "cell_type": "code",
      "source": [
        "def predict_on_sentence(model, sentence):\n",
        "  pred_prob = model.predict([sentence])\n",
        "  pred_label = tf.squeeze(tf.round(pred_prob)).numpy()\n",
        "  print(f\"Pred: {pred_label}\", \"(real disaster)\" if pred_label > 0 else \"(not real disaster)\", f\"Prob: {pred_prob[0][0]}\")\n",
        "  print(f\"Text:\\n{sentence}\")"
      ],
      "metadata": {
        "id": "71rmdltXuSW4"
      },
      "execution_count": 66,
      "outputs": []
    },
    {
      "cell_type": "code",
      "source": [
        "print(train_df[\"text\"][1],train_df[\"target\"][1])\n",
        "sample1=train_df[\"text\"][1]"
      ],
      "metadata": {
        "colab": {
          "base_uri": "https://localhost:8080/"
        },
        "id": "P1AWaTlOucIB",
        "outputId": "570d1880-e7ef-4388-bb64-7e582e1b6d5b"
      },
      "execution_count": 75,
      "outputs": [
        {
          "output_type": "stream",
          "name": "stdout",
          "text": [
            "Forest fire near La Ronge Sask. Canada 1\n"
          ]
        }
      ]
    },
    {
      "cell_type": "code",
      "source": [
        "sample2 = \"hello I'm Machine learning enginner\""
      ],
      "metadata": {
        "id": "Ym6H2I7nutSv"
      },
      "execution_count": 80,
      "outputs": []
    },
    {
      "cell_type": "code",
      "source": [
        "predict_on_sentence(model6,sample1)"
      ],
      "metadata": {
        "colab": {
          "base_uri": "https://localhost:8080/"
        },
        "id": "wja-xQZnvK1X",
        "outputId": "061f772a-c33a-463f-d01d-d841bf551128"
      },
      "execution_count": 78,
      "outputs": [
        {
          "output_type": "stream",
          "name": "stdout",
          "text": [
            "1/1 [==============================] - 0s 161ms/step\n",
            "Pred: 1.0 (real disaster) Prob: 0.9798776507377625\n",
            "Text:\n",
            "Forest fire near La Ronge Sask. Canada\n"
          ]
        }
      ]
    },
    {
      "cell_type": "code",
      "source": [
        "predict_on_sentence(model6,sample2)"
      ],
      "metadata": {
        "colab": {
          "base_uri": "https://localhost:8080/"
        },
        "id": "aVjipBz6vPBl",
        "outputId": "35735541-c937-4169-9924-8c039c9c3695"
      },
      "execution_count": 81,
      "outputs": [
        {
          "output_type": "stream",
          "name": "stdout",
          "text": [
            "1/1 [==============================] - 0s 40ms/step\n",
            "Pred: 0.0 (not real disaster) Prob: 0.07169391959905624\n",
            "Text:\n",
            "hello I'm Machine learning enginner\n"
          ]
        }
      ]
    },
    {
      "cell_type": "code",
      "source": [],
      "metadata": {
        "id": "sTY3Ozo7vaWJ"
      },
      "execution_count": null,
      "outputs": []
    }
  ],
  "metadata": {
    "accelerator": "GPU",
    "colab": {
      "provenance": []
    },
    "gpuClass": "standard",
    "kernelspec": {
      "display_name": "Python 3",
      "name": "python3"
    },
    "language_info": {
      "name": "python"
    }
  },
  "nbformat": 4,
  "nbformat_minor": 0
}